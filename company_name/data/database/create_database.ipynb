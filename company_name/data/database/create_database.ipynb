{
 "cells": [
  {
   "cell_type": "code",
   "execution_count": 1,
   "metadata": {},
   "outputs": [],
   "source": [
    "import pickle\n",
    "\n",
    "# Load the products catalog from a pickle file\n",
    "with open(\"products_catalog.pkl\", \"rb\") as handle:\n",
    "    products_catalog = pickle.load(handle)"
   ]
  },
  {
   "cell_type": "code",
   "execution_count": 2,
   "metadata": {},
   "outputs": [],
   "source": [
    "import sqlite3\n",
    "\n",
    "# Create the database\n",
    "conn = sqlite3.connect('ecommerce.db')\n",
    "c = conn.cursor()\n",
    "\n",
    "# Create the products table\n",
    "c.execute('''CREATE TABLE products\n",
    "             (product_id INTEGER PRIMARY KEY,\n",
    "              name TEXT,\n",
    "              category TEXT,\n",
    "              brand TEXT,\n",
    "              model_number TEXT,\n",
    "              warranty INTEGER,\n",
    "              rating REAL,\n",
    "              features TEXT,\n",
    "              description TEXT,\n",
    "              price REAL)''')\n",
    "\n",
    "# Create the customers table\n",
    "c.execute('''CREATE TABLE customers\n",
    "             (customer_id INTEGER PRIMARY KEY,\n",
    "              first_name TEXT,\n",
    "              last_name TEXT,\n",
    "              email TEXT,\n",
    "              phone TEXT)''')\n",
    "\n",
    "\n",
    "# Create the orders table\n",
    "# Each order is associated with a customer and a product\n",
    "# Create the orders table\n",
    "c.execute('''CREATE TABLE orders\n",
    "             (order_id INTEGER PRIMARY KEY,\n",
    "              customer_id INTEGER,\n",
    "              product_id INTEGER,\n",
    "              quantity INTEGER,\n",
    "              total_amount REAL,\n",
    "              order_date TEXT,\n",
    "              FOREIGN KEY (customer_id) REFERENCES customers(customer_id),\n",
    "              FOREIGN KEY (product_id) REFERENCES products(product_id))''')\n",
    "\n",
    "conn.commit()\n",
    "conn.close()"
   ]
  },
  {
   "cell_type": "code",
   "execution_count": 3,
   "metadata": {},
   "outputs": [],
   "source": [
    "import json\n",
    "\n",
    "# Connect to the database\n",
    "conn = sqlite3.connect('ecommerce.db')\n",
    "c = conn.cursor()\n",
    "\n",
    "for product in products_catalog.values():\n",
    "    c.execute(\"INSERT INTO products (name, category, brand, model_number, warranty, rating, features, description, price) VALUES (?, ?, ?, ?, ?, ?, ?, ?, ?)\",\n",
    "              (product[\"name\"], product[\"category\"], product[\"brand\"], product[\"model_number\"], product[\"warranty\"], product[\"rating\"], json.dumps(product[\"features\"]), product[\"description\"], product[\"price\"]))\n",
    "\n",
    "conn.commit()\n",
    "conn.close()"
   ]
  },
  {
   "cell_type": "code",
   "execution_count": 4,
   "metadata": {},
   "outputs": [],
   "source": [
    "# Connect to the database\n",
    "conn = sqlite3.connect('ecommerce.db')\n",
    "c = conn.cursor()\n",
    "\n",
    "# Insert sample data\n",
    "c.execute(\"INSERT INTO customers (first_name, last_name, email, phone) VALUES (?, ?, ?, ?)\", (\"John\",\"Doe\", \"john.doe@example.com\", \"555-1234\"))\n",
    "c.execute(\"INSERT INTO customers (first_name, last_name, email, phone) VALUES (?, ?, ?, ?)\", (\"Jane\", \"Smith\", \"jane.smith@example.com\", \"555-5678\"))\n",
    "\n",
    "conn.commit()\n",
    "conn.close()"
   ]
  },
  {
   "cell_type": "code",
   "execution_count": 5,
   "metadata": {},
   "outputs": [],
   "source": [
    "# Connect to the database\n",
    "conn = sqlite3.connect('ecommerce.db')\n",
    "c = conn.cursor()\n",
    "\n",
    "# Insert sample data\n",
    "c.execute(\"INSERT INTO orders (customer_id, product_id, quantity, total_amount, order_date) VALUES (?, ?, ?, ?, ?)\", (1, 1, 1, 799.99, \"2023-09-01\"))\n",
    "c.execute(\"INSERT INTO orders (customer_id, product_id, quantity, total_amount, order_date) VALUES (?, ?, ?, ?, ?)\", (2, 2, 1, 1199.99, \"2023-09-15\"))\n",
    "\n",
    "conn.commit()\n",
    "conn.close()"
   ]
  },
  {
   "cell_type": "code",
   "execution_count": null,
   "metadata": {},
   "outputs": [],
   "source": []
  }
 ],
 "metadata": {
  "kernelspec": {
   "display_name": "codeproject-WtLDeebZ-py3.11",
   "language": "python",
   "name": "python3"
  },
  "language_info": {
   "codemirror_mode": {
    "name": "ipython",
    "version": 3
   },
   "file_extension": ".py",
   "mimetype": "text/x-python",
   "name": "python",
   "nbconvert_exporter": "python",
   "pygments_lexer": "ipython3",
   "version": "3.11.8"
  }
 },
 "nbformat": 4,
 "nbformat_minor": 2
}
