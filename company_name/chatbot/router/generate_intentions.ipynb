{
 "cells": [
  {
   "cell_type": "code",
   "execution_count": 1,
   "metadata": {},
   "outputs": [],
   "source": [
    "from pydantic import BaseModel, Field\n",
    "from langchain.output_parsers import PydanticOutputParser\n",
    "from langchain_core.prompts import PromptTemplate\n",
    "from langchain_openai import ChatOpenAI\n",
    "from dotenv import load_dotenv"
   ]
  },
  {
   "cell_type": "code",
   "execution_count": 2,
   "metadata": {},
   "outputs": [
    {
     "data": {
      "text/plain": [
       "True"
      ]
     },
     "execution_count": 2,
     "metadata": {},
     "output_type": "execute_result"
    }
   ],
   "source": [
    "load_dotenv()"
   ]
  },
  {
   "cell_type": "markdown",
   "metadata": {},
   "source": [
    "Here are some auxiliar functions to save your synthetic data."
   ]
  },
  {
   "cell_type": "code",
   "execution_count": 3,
   "metadata": {},
   "outputs": [],
   "source": [
    "from auxiliar import add_messages"
   ]
  },
  {
   "cell_type": "code",
   "execution_count": 4,
   "metadata": {},
   "outputs": [],
   "source": [
    "PRODUCT_DATABASE = {\n",
    "    \"Computers and Laptops\": [\n",
    "        \"TechPro Ultrabook\",\n",
    "        \"BlueWave Gaming Laptop\",\n",
    "        \"PowerLite Convertible\",\n",
    "        \"TechPro Desktop\",\n",
    "        \"BlueWave Chromebook\",\n",
    "    ],\n",
    "    \"Smartphones and Accessories\": [\n",
    "        \"SmartX ProPhone\",\n",
    "        \"MobiTech PowerCase\",\n",
    "        \"SmartX MiniPhone\",\n",
    "        \"MobiTech Wireless Charger\",\n",
    "        \"SmartX EarBuds\",\n",
    "    ],\n",
    "    \"Televisions and Home Theater Systems\": [\n",
    "        \"CineView 4K TV\",\n",
    "        \"SoundMax Home Theater\",\n",
    "        \"CineView 8K TV\",\n",
    "        \"SoundMax Soundbar\",\n",
    "        \"CineView OLED TV\",\n",
    "    ],\n",
    "    \"Gaming Consoles and Accessories\": [\n",
    "        \"GameSphere X\",\n",
    "        \"ProGamer Controller\",\n",
    "        \"GameSphere Y\",\n",
    "        \"ProGamer Racing Wheel\",\n",
    "        \"GameSphere VR Headset\",\n",
    "    ],\n",
    "    \"Audio Equipment\": [\n",
    "        \"AudioPhonic Noise-Canceling Headphones\",\n",
    "        \"WaveSound Bluetooth Speaker\",\n",
    "        \"AudioPhonic True Wireless Earbuds\",\n",
    "        \"WaveSound Soundbar\",\n",
    "        \"AudioPhonic Turntable\",\n",
    "    ],\n",
    "    \"Cameras and Camcorders\": [\n",
    "        \"FotoSnap DSLR Camera\",\n",
    "        \"ActionCam 4K\",\n",
    "        \"FotoSnap Mirrorless Camera\",\n",
    "        \"ZoomMaster Camcorder\",\n",
    "        \"FotoSnap Instant Camera\",\n",
    "    ],\n",
    "}"
   ]
  },
  {
   "cell_type": "code",
   "execution_count": 5,
   "metadata": {},
   "outputs": [],
   "source": [
    "class SyntheticUserMessage(BaseModel):\n",
    "\n",
    "    message: str = Field(\n",
    "        ...,\n",
    "        title=\"Message\",\n",
    "        description=\"The user message to generate for the target task intention.\",\n",
    "    )\n",
    "\n",
    "\n",
    "class ListSyntheticUserMessages(BaseModel):\n",
    "\n",
    "    messages: list[SyntheticUserMessage] = Field(\n",
    "        ...,\n",
    "        title=\"Messages\",\n",
    "        description=\"The list of synthetic user messages to generate for the target task intention.\",\n",
    "    )\n",
    "\n",
    "output_parser = PydanticOutputParser(pydantic_object=ListSyntheticUserMessages)"
   ]
  },
  {
   "cell_type": "code",
   "execution_count": 6,
   "metadata": {},
   "outputs": [],
   "source": [
    "system_prompt = \"\"\"\n",
    "You are tasked with generating synthetic user messages for an e-commerce platform called Cobuy, which specializes in electronics and gadgets.\n",
    "\n",
    "The user intentions are:\n",
    "{user_intentions}\n",
    "\n",
    "Your task is to create {k} distinct messages for the following target task intention:\n",
    "{target_task_intention}\n",
    "\n",
    "Specific information about the target task intention:\n",
    "{target_task_intention_description}\n",
    "\n",
    "Follow these guidelines:\n",
    "1. Focus exclusively on the target task intention, ensuring the message is relevant.\n",
    "2. Each message should be between 5 and 20 words.\n",
    "3. Avoid including any details or references to other user intentions.\n",
    "4. Ensure the messages sound natural and typical of user queries for the given intention.\n",
    "5. Follow the provided format strictly to maintain consistency.\n",
    "\n",
    "Message format:\n",
    "{format_instructions}\n",
    "\"\"\"\n",
    "\n",
    "prompt = PromptTemplate(\n",
    "    template=system_prompt,\n",
    "    input_variables=[\"k\", \"user_intentions\", \"target_task_intention\" \"target_task_intention_description\", \"format_instructions\"],\n",
    "    partial_variables={\"format_instructions\": output_parser.get_format_instructions()},\n",
    ")"
   ]
  },
  {
   "cell_type": "code",
   "execution_count": 7,
   "metadata": {},
   "outputs": [],
   "source": [
    "llm = ChatOpenAI(temperature=0.0, model=\"gpt-4o-mini\")\n",
    "\n",
    "user_intentions = [\"order_status\", \"create_order\",  \"product_information\"]\n",
    "k = 30 # Number of synthetic user messages to generate for each target task intention\n",
    "\n",
    "file_name = \"synthetic_intetions.json\"\n",
    "\n",
    "synthetic_data_chain = prompt | llm | output_parser"
   ]
  },
  {
   "cell_type": "markdown",
   "metadata": {},
   "source": [
    "# Intention 1 - Order Status"
   ]
  },
  {
   "cell_type": "code",
   "execution_count": 8,
   "metadata": {},
   "outputs": [],
   "source": [
    "intention = \"order_status\"\n",
    "\n",
    "description = \"The user wants to know the status of their order, to do so they provide their order number and ask for the current status of the order. \\\n",
    "                They might ask questions related to the delivery date, expected delivery time, or the current location of the order.\"\n",
    "\n",
    "response = synthetic_data_chain.invoke({\"k\": k, \"user_intentions\": user_intentions, \"target_task_intention\": intention, \"target_task_intention_description\": description})\n",
    "\n",
    "order_status_messages = []\n",
    "for message in response.messages:\n",
    "    order_status_messages.append({\"Intention\":intention, \"Message\":message.message})"
   ]
  },
  {
   "cell_type": "markdown",
   "metadata": {},
   "source": [
    "Now you can check and edit your synthetic messages in a json file."
   ]
  },
  {
   "cell_type": "code",
   "execution_count": 9,
   "metadata": {},
   "outputs": [],
   "source": [
    "add_messages(order_status_messages, file_name)"
   ]
  },
  {
   "cell_type": "markdown",
   "metadata": {},
   "source": [
    "# Intention 2 - Create Order "
   ]
  },
  {
   "cell_type": "code",
   "execution_count": 10,
   "metadata": {},
   "outputs": [],
   "source": [
    "intention = \"create_order\"\n",
    "\n",
    "description = \"\"\"The user intends to place an order for a product on the Cobuy platform. \\\n",
    "                In this scenario, it is assumed that the user has already browsed and selected a product but has not yet finalized the order. \\\n",
    "                 The user may express this intention in various ways. The user might not specify the exact quantity, in which case a default amount may be inferred, or they might simply refer to ordering the product without specifying the quantity. \\\n",
    "                 Additionally, the user will always refer to the product by its name or by refering to it for example as 'it' or 'this product', as the user has already selected the product. \\\n",
    "                The available products are {products}.              \n",
    "                \"\"\"\n",
    "\n",
    "response = synthetic_data_chain.invoke({\"k\": k, \"user_intentions\": user_intentions, \"target_task_intention\": intention, \"target_task_intention_description\": description})\n",
    "\n",
    "create_order_messages = []\n",
    "\n",
    "for message in response.messages:\n",
    "    create_order_messages.append({\"Intention\":intention, \"Message\":message.message})"
   ]
  },
  {
   "cell_type": "code",
   "execution_count": 12,
   "metadata": {},
   "outputs": [],
   "source": [
    "add_messages(create_order_messages, file_name)"
   ]
  },
  {
   "cell_type": "markdown",
   "metadata": {},
   "source": [
    "# Intention 3 - Product Information"
   ]
  },
  {
   "cell_type": "code",
   "execution_count": 13,
   "metadata": {},
   "outputs": [],
   "source": [
    "intention = \"product_information\"\n",
    "\n",
    "\n",
    "description = \"\"\"The user is interested in obtaining information about a specific product available on the Cobuy platform. \\\n",
    "                This includes asking for information such as the product's features, specifications, price, warranty, brand, model number, and description. \\\n",
    "                The user migth just ask for information about a category of products, in which case the user is interested in general information about the products in that category. \\\n",
    "                The user will always refer to the product by its name or by refering to it as 'it' or 'this product'. \\\n",
    "                The available products are {products}.\n",
    "                \"\"\"\n",
    "\n",
    "response = synthetic_data_chain.invoke({\"k\": k, \"user_intentions\": user_intentions, \"target_task_intention\": intention, \"target_task_intention_description\": description})\n",
    "\n",
    "product_information_messages = []\n",
    "\n",
    "for message in response.messages:\n",
    "    product_information_messages.append({\"Intention\":intention, \"Message\":message.message})"
   ]
  },
  {
   "cell_type": "code",
   "execution_count": 14,
   "metadata": {},
   "outputs": [],
   "source": [
    "add_messages(product_information_messages, file_name)"
   ]
  },
  {
   "cell_type": "markdown",
   "metadata": {},
   "source": [
    "# No Intention: None"
   ]
  },
  {
   "cell_type": "code",
   "execution_count": 15,
   "metadata": {},
   "outputs": [],
   "source": [
    "system_prompt = \"\"\"\n",
    "You are tasked with generating synthetic user messages.\n",
    "\n",
    "The user intentions are:\n",
    "{user_intentions}\n",
    "\n",
    "Your task is to create {k} distinct messages completely unrelated to the available user intentions.\n",
    "These messages should be generic and not related to any specific task or intention.\n",
    "The user is engaging in casual conversation.\n",
    "The user might ask general questions, share opinions, or express emotions. \n",
    "The user might also ask for totaly none related questions to the platform. \n",
    "The user might ask general questions, share opinions, or express emotions.\n",
    "\n",
    "Follow these guidelines:\n",
    "1. Focus exclusively on not being related to any of the user intentions.\n",
    "2. Each message should be between 5 and 20 words.\n",
    "3. Avoid including any details or references to other user intentions.\n",
    "4. Ensure the messages sound natural and typical of user queries for the given intention.\n",
    "5. Follow the provided format strictly to maintain consistency.\n",
    "\n",
    "Message format:\n",
    "{format_instructions}\n",
    "\"\"\""
   ]
  },
  {
   "cell_type": "code",
   "execution_count": 16,
   "metadata": {},
   "outputs": [],
   "source": [
    "prompt = PromptTemplate(\n",
    "    template=system_prompt,\n",
    "    input_variables=[\"k\", \"user_intentions\"],\n",
    "    partial_variables={\"format_instructions\": output_parser.get_format_instructions()},\n",
    ")\n",
    "\n",
    "synthetic_data_chain = prompt | llm | output_parser"
   ]
  },
  {
   "cell_type": "code",
   "execution_count": 17,
   "metadata": {},
   "outputs": [],
   "source": [
    "response = synthetic_data_chain.invoke({\"k\": (k//3), \"user_intentions\": user_intentions})\n",
    "\n",
    "none_related_messages = []\n",
    "\n",
    "for message in response.messages:\n",
    "    none_related_messages.append({\"Intention\":\"None\", \"Message\":message.message})"
   ]
  },
  {
   "cell_type": "code",
   "execution_count": 18,
   "metadata": {},
   "outputs": [],
   "source": [
    "add_messages(none_related_messages, file_name)"
   ]
  }
 ],
 "metadata": {
  "kernelspec": {
   "display_name": "codeproject-WtLDeebZ-py3.11",
   "language": "python",
   "name": "python3"
  },
  "language_info": {
   "codemirror_mode": {
    "name": "ipython",
    "version": 3
   },
   "file_extension": ".py",
   "mimetype": "text/x-python",
   "name": "python",
   "nbconvert_exporter": "python",
   "pygments_lexer": "ipython3",
   "version": "3.11.8"
  }
 },
 "nbformat": 4,
 "nbformat_minor": 2
}
